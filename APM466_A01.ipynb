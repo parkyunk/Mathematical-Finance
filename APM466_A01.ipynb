{
  "nbformat": 4,
  "nbformat_minor": 0,
  "metadata": {
    "colab": {
      "name": "APM466 A01.ipynb",
      "provenance": [],
      "collapsed_sections": []
    },
    "kernelspec": {
      "name": "python3",
      "display_name": "Python 3"
    },
    "language_info": {
      "name": "python"
    }
  },
  "cells": [
    {
      "cell_type": "code",
      "source": [
        "import pandas as pd\n",
        "\n",
        "dataset = pd.read_excel('/content/Historical_closing_prices.xlsx', index_col='ISIN')"
      ],
      "metadata": {
        "id": "ybcD9mIGec5I"
      },
      "execution_count": 1,
      "outputs": []
    },
    {
      "cell_type": "code",
      "source": [
        "dataset = dataset.sort_values(by='maturity date')\n",
        "dataset.to_csv('dataset.csv')"
      ],
      "metadata": {
        "id": "XugbpEXMev3J"
      },
      "execution_count": 2,
      "outputs": []
    },
    {
      "cell_type": "code",
      "source": [
        "# Select 10 bonds\n",
        "dataset = dataset.loc[['CA135087K866', 'CA135087L369', 'CA135087L856', \n",
        "                        'CA135087M763', 'CA135087J546', 'CA135087J967', \n",
        "                        'CA135087K528', 'CA135087K940', 'CA135087L518', \n",
        "                        'CA135087L930']]\n",
        "dataset.to_csv('selected_dataset.csv')\n",
        "print(dataset)"
      ],
      "metadata": {
        "id": "VRKXkJAjjVtT",
        "colab": {
          "base_uri": "https://localhost:8080/"
        },
        "outputId": "ae83cb97-89d5-41f3-d8fe-14da6e02acf3"
      },
      "execution_count": 3,
      "outputs": [
        {
          "output_type": "stream",
          "name": "stdout",
          "text": [
            "              coupon issue date  ... 2022-01-20 00:00:00  2022-01-21 00:00:00\n",
            "ISIN                             ...                                         \n",
            "CA135087K866  0.0150 2020-01-27  ...              100.26               100.27\n",
            "CA135087L369  0.0025 2020-08-17  ...               99.43                99.46\n",
            "CA135087L856  0.0025 2021-02-05  ...               98.87                98.92\n",
            "CA135087M763  0.0050 2021-08-09  ...               98.66                98.72\n",
            "CA135087J546  0.0225 2018-10-05  ...              101.88               101.97\n",
            "CA135087J967  0.0150 2019-04-05  ...              100.17               100.27\n",
            "CA135087K528  0.0125 2019-10-11  ...               99.10                99.26\n",
            "CA135087K940  0.0050 2020-04-03  ...               96.19                96.31\n",
            "CA135087L518  0.0025 2020-10-09  ...               94.52                94.70\n",
            "CA135087L930  0.0100 2021-04-16  ...               97.00                97.22\n",
            "\n",
            "[10 rows x 13 columns]\n"
          ]
        }
      ]
    },
    {
      "cell_type": "markdown",
      "source": [
        "Updated all the clean prices to dirty prices using the formula:\n",
        "DP = CP + (accrued interest) where \n",
        "$$AI=\\frac{n}{\\frac{365}{2}}*\\frac{coupon\\;rate}{2}*100=\\frac{n}{365} * (coupon\\;rate) * 100$$\n",
        "$n$ denotes the number of days passed since the last coupon payment."
      ],
      "metadata": {
        "id": "sLbhVAXHuxFL"
      }
    },
    {
      "cell_type": "code",
      "source": [
        "def dirty_price(n, d):\n",
        "  \"\"\"returns the dirty price of the bond <ISIN> on <day>\"\"\"\n",
        "  bond = dataset.index[n]\n",
        "  day = dataset.columns[d]\n",
        "  ind = n + 1\n",
        "  clean_price = dataset.loc[bond, day] # this is the closing price\n",
        "  coupon = 100 * dataset.loc[bond, 'coupon']\n",
        "  # assume that 6 months = 183 days\n",
        "  timestamp = dataset.loc[bond, 'maturity date'] - datetime.timedelta(days=183*ind) # now we are at the last coupon payment date\n",
        "  timestamp = (day - timestamp).days # the number of days passed since the last coupon payment\n",
        "  accrued_interest = timestamp / 365 * coupon\n",
        "  return clean_price + accrued_interest\n",
        "\n",
        "import datetime\n",
        "\n",
        "# create a new dataset that contains the dirty price instead of clean price\n",
        "df_dirty_price = dataset.copy()\n",
        "for n in range(len(dataset.index)):\n",
        "  bond = dataset.index[n]\n",
        "  for d in range(len(dataset.columns)):\n",
        "    day = dataset.columns[d] \n",
        "    if isinstance(day, datetime.datetime):\n",
        "      df_dirty_price.loc[bond, day] = dirty_price(n, d)"
      ],
      "metadata": {
        "id": "y8fPsUaLWO_a"
      },
      "execution_count": 4,
      "outputs": []
    },
    {
      "cell_type": "code",
      "source": [
        "df_dirty_price.to_csv('dirty price.csv')"
      ],
      "metadata": {
        "id": "lcDhs39cW5Vb"
      },
      "execution_count": 5,
      "outputs": []
    },
    {
      "cell_type": "markdown",
      "source": [
        "To calculate the yield rate, we use the following formula:\n",
        "$DP_n = \\sum_{i=1}^n C_n(1+\\frac{ytm_n}{2})^{-i}+F(1+\\frac{ytm_n}{2})^{-n}$"
      ],
      "metadata": {
        "id": "kUnSuZVvbAiZ"
      }
    },
    {
      "cell_type": "code",
      "source": [
        "yield_df = df_dirty_price.copy()"
      ],
      "metadata": {
        "id": "Akx52Fn2Pgni"
      },
      "execution_count": 6,
      "outputs": []
    },
    {
      "cell_type": "code",
      "source": [
        "from scipy import optimize\n",
        "\n",
        "def ytm_total(n, d, c):\n",
        "  \"\"\"returns ytm_total - DP\"\"\"\n",
        "  bond = df_dirty_price.index[n]\n",
        "  day = df_dirty_price.columns[d]\n",
        "  summand = 0\n",
        "  i = 0\n",
        "  while i <= n:\n",
        "    coupon = df_dirty_price.loc[bond, 'coupon']/2*100 * ((1+c/2)**(-(i+1)))\n",
        "    summand += coupon\n",
        "    i += 1\n",
        "  summand += 100 * ((1+c/2)**(-(n+1)))\n",
        "  return summand - df_dirty_price.iloc[n, d]\n",
        "\n",
        "for n in range(len(df_dirty_price.index)):\n",
        "  for d in range(3, len(df_dirty_price.columns)):\n",
        "    # set the initial assumption to be the coupon rate\n",
        "    initial = df_dirty_price.iloc[n, 0]\n",
        "    ytm = lambda c: ytm_total(n, d, c)\n",
        "    if df_dirty_price.iloc[n, d] < 100:\n",
        "      yield_df.iloc[n, d] = optimize.ridder(ytm, initial, 1)\n",
        "    elif df_dirty_price.iloc[n, d] > 100:\n",
        "      yield_df.iloc[n, d] = optimize.ridder(ytm, 0, initial)\n",
        "    else:\n",
        "      yield_df.iloc[n, d] = initial\n",
        "\n",
        "yield_df.to_csv('yield_rate.csv')"
      ],
      "metadata": {
        "id": "nBWYmuUjGd7N"
      },
      "execution_count": 7,
      "outputs": []
    },
    {
      "cell_type": "code",
      "source": [
        "yield_df"
      ],
      "metadata": {
        "colab": {
          "base_uri": "https://localhost:8080/",
          "height": 667
        },
        "id": "0wD94zoNVOFP",
        "outputId": "0575d976-a70c-4c91-a26a-d8b827499a4e"
      },
      "execution_count": 8,
      "outputs": [
        {
          "output_type": "execute_result",
          "data": {
            "text/html": [
              "\n",
              "  <div id=\"df-bdcdf9da-2864-483c-8fbf-317b30c15497\">\n",
              "    <div class=\"colab-df-container\">\n",
              "      <div>\n",
              "<style scoped>\n",
              "    .dataframe tbody tr th:only-of-type {\n",
              "        vertical-align: middle;\n",
              "    }\n",
              "\n",
              "    .dataframe tbody tr th {\n",
              "        vertical-align: top;\n",
              "    }\n",
              "\n",
              "    .dataframe thead th {\n",
              "        text-align: right;\n",
              "    }\n",
              "</style>\n",
              "<table border=\"1\" class=\"dataframe\">\n",
              "  <thead>\n",
              "    <tr style=\"text-align: right;\">\n",
              "      <th></th>\n",
              "      <th>coupon</th>\n",
              "      <th>issue date</th>\n",
              "      <th>maturity date</th>\n",
              "      <th>2022-01-10 00:00:00</th>\n",
              "      <th>2022-01-11 00:00:00</th>\n",
              "      <th>2022-01-12 00:00:00</th>\n",
              "      <th>2022-01-13 00:00:00</th>\n",
              "      <th>2022-01-14 00:00:00</th>\n",
              "      <th>2022-01-17 00:00:00</th>\n",
              "      <th>2022-01-18 00:00:00</th>\n",
              "      <th>2022-01-19 00:00:00</th>\n",
              "      <th>2022-01-20 00:00:00</th>\n",
              "      <th>2022-01-21 00:00:00</th>\n",
              "    </tr>\n",
              "    <tr>\n",
              "      <th>ISIN</th>\n",
              "      <th></th>\n",
              "      <th></th>\n",
              "      <th></th>\n",
              "      <th></th>\n",
              "      <th></th>\n",
              "      <th></th>\n",
              "      <th></th>\n",
              "      <th></th>\n",
              "      <th></th>\n",
              "      <th></th>\n",
              "      <th></th>\n",
              "      <th></th>\n",
              "      <th></th>\n",
              "    </tr>\n",
              "  </thead>\n",
              "  <tbody>\n",
              "    <tr>\n",
              "      <th>CA135087K866</th>\n",
              "      <td>0.0150</td>\n",
              "      <td>2020-01-27</td>\n",
              "      <td>2022-05-01</td>\n",
              "      <td>0.002069</td>\n",
              "      <td>0.002186</td>\n",
              "      <td>0.002104</td>\n",
              "      <td>0.002420</td>\n",
              "      <td>0.002538</td>\n",
              "      <td>0.002889</td>\n",
              "      <td>0.003007</td>\n",
              "      <td>0.002925</td>\n",
              "      <td>0.003042</td>\n",
              "      <td>0.002761</td>\n",
              "    </tr>\n",
              "    <tr>\n",
              "      <th>CA135087L369</th>\n",
              "      <td>0.0025</td>\n",
              "      <td>2020-08-17</td>\n",
              "      <td>2022-11-01</td>\n",
              "      <td>0.006533</td>\n",
              "      <td>0.006627</td>\n",
              "      <td>0.006822</td>\n",
              "      <td>0.006815</td>\n",
              "      <td>0.007010</td>\n",
              "      <td>0.007696</td>\n",
              "      <td>0.007992</td>\n",
              "      <td>0.007783</td>\n",
              "      <td>0.007675</td>\n",
              "      <td>0.007365</td>\n",
              "    </tr>\n",
              "    <tr>\n",
              "      <th>CA135087L856</th>\n",
              "      <td>0.0025</td>\n",
              "      <td>2021-02-05</td>\n",
              "      <td>2023-05-01</td>\n",
              "      <td>0.008348</td>\n",
              "      <td>0.008411</td>\n",
              "      <td>0.008542</td>\n",
              "      <td>0.008605</td>\n",
              "      <td>0.008803</td>\n",
              "      <td>0.009535</td>\n",
              "      <td>0.009869</td>\n",
              "      <td>0.009729</td>\n",
              "      <td>0.009724</td>\n",
              "      <td>0.009380</td>\n",
              "    </tr>\n",
              "    <tr>\n",
              "      <th>CA135087M763</th>\n",
              "      <td>0.0050</td>\n",
              "      <td>2021-08-09</td>\n",
              "      <td>2023-11-01</td>\n",
              "      <td>0.009714</td>\n",
              "      <td>0.009757</td>\n",
              "      <td>0.009903</td>\n",
              "      <td>0.009998</td>\n",
              "      <td>0.010144</td>\n",
              "      <td>0.010888</td>\n",
              "      <td>0.011188</td>\n",
              "      <td>0.011283</td>\n",
              "      <td>0.011225</td>\n",
              "      <td>0.010911</td>\n",
              "    </tr>\n",
              "    <tr>\n",
              "      <th>CA135087J546</th>\n",
              "      <td>0.0225</td>\n",
              "      <td>2018-10-05</td>\n",
              "      <td>2024-03-01</td>\n",
              "      <td>0.009771</td>\n",
              "      <td>0.009747</td>\n",
              "      <td>0.009922</td>\n",
              "      <td>0.010056</td>\n",
              "      <td>0.010191</td>\n",
              "      <td>0.010876</td>\n",
              "      <td>0.011171</td>\n",
              "      <td>0.011187</td>\n",
              "      <td>0.011242</td>\n",
              "      <td>0.010857</td>\n",
              "    </tr>\n",
              "    <tr>\n",
              "      <th>CA135087J967</th>\n",
              "      <td>0.0150</td>\n",
              "      <td>2019-04-05</td>\n",
              "      <td>2024-09-01</td>\n",
              "      <td>0.011239</td>\n",
              "      <td>0.010988</td>\n",
              "      <td>0.011008</td>\n",
              "      <td>0.011129</td>\n",
              "      <td>0.011318</td>\n",
              "      <td>0.012054</td>\n",
              "      <td>0.012312</td>\n",
              "      <td>0.012501</td>\n",
              "      <td>0.012419</td>\n",
              "      <td>0.012066</td>\n",
              "    </tr>\n",
              "    <tr>\n",
              "      <th>CA135087K528</th>\n",
              "      <td>0.0125</td>\n",
              "      <td>2019-10-11</td>\n",
              "      <td>2025-03-01</td>\n",
              "      <td>0.012200</td>\n",
              "      <td>0.012103</td>\n",
              "      <td>0.012268</td>\n",
              "      <td>0.012317</td>\n",
              "      <td>0.012600</td>\n",
              "      <td>0.013274</td>\n",
              "      <td>0.013646</td>\n",
              "      <td>0.013665</td>\n",
              "      <td>0.013684</td>\n",
              "      <td>0.013204</td>\n",
              "    </tr>\n",
              "    <tr>\n",
              "      <th>CA135087K940</th>\n",
              "      <td>0.0050</td>\n",
              "      <td>2020-04-03</td>\n",
              "      <td>2025-09-01</td>\n",
              "      <td>0.013126</td>\n",
              "      <td>0.012965</td>\n",
              "      <td>0.012831</td>\n",
              "      <td>0.012827</td>\n",
              "      <td>0.013059</td>\n",
              "      <td>0.013705</td>\n",
              "      <td>0.014148</td>\n",
              "      <td>0.014434</td>\n",
              "      <td>0.014325</td>\n",
              "      <td>0.014006</td>\n",
              "    </tr>\n",
              "    <tr>\n",
              "      <th>CA135087L518</th>\n",
              "      <td>0.0025</td>\n",
              "      <td>2020-10-09</td>\n",
              "      <td>2026-03-01</td>\n",
              "      <td>0.013523</td>\n",
              "      <td>0.013380</td>\n",
              "      <td>0.013496</td>\n",
              "      <td>0.013448</td>\n",
              "      <td>0.013682</td>\n",
              "      <td>0.014364</td>\n",
              "      <td>0.014885</td>\n",
              "      <td>0.014955</td>\n",
              "      <td>0.014905</td>\n",
              "      <td>0.014476</td>\n",
              "    </tr>\n",
              "    <tr>\n",
              "      <th>CA135087L930</th>\n",
              "      <td>0.0100</td>\n",
              "      <td>2021-04-16</td>\n",
              "      <td>2026-09-01</td>\n",
              "      <td>0.014095</td>\n",
              "      <td>0.014005</td>\n",
              "      <td>0.014062</td>\n",
              "      <td>0.014014</td>\n",
              "      <td>0.014219</td>\n",
              "      <td>0.014939</td>\n",
              "      <td>0.015398</td>\n",
              "      <td>0.015519</td>\n",
              "      <td>0.015429</td>\n",
              "      <td>0.014958</td>\n",
              "    </tr>\n",
              "  </tbody>\n",
              "</table>\n",
              "</div>\n",
              "      <button class=\"colab-df-convert\" onclick=\"convertToInteractive('df-bdcdf9da-2864-483c-8fbf-317b30c15497')\"\n",
              "              title=\"Convert this dataframe to an interactive table.\"\n",
              "              style=\"display:none;\">\n",
              "        \n",
              "  <svg xmlns=\"http://www.w3.org/2000/svg\" height=\"24px\"viewBox=\"0 0 24 24\"\n",
              "       width=\"24px\">\n",
              "    <path d=\"M0 0h24v24H0V0z\" fill=\"none\"/>\n",
              "    <path d=\"M18.56 5.44l.94 2.06.94-2.06 2.06-.94-2.06-.94-.94-2.06-.94 2.06-2.06.94zm-11 1L8.5 8.5l.94-2.06 2.06-.94-2.06-.94L8.5 2.5l-.94 2.06-2.06.94zm10 10l.94 2.06.94-2.06 2.06-.94-2.06-.94-.94-2.06-.94 2.06-2.06.94z\"/><path d=\"M17.41 7.96l-1.37-1.37c-.4-.4-.92-.59-1.43-.59-.52 0-1.04.2-1.43.59L10.3 9.45l-7.72 7.72c-.78.78-.78 2.05 0 2.83L4 21.41c.39.39.9.59 1.41.59.51 0 1.02-.2 1.41-.59l7.78-7.78 2.81-2.81c.8-.78.8-2.07 0-2.86zM5.41 20L4 18.59l7.72-7.72 1.47 1.35L5.41 20z\"/>\n",
              "  </svg>\n",
              "      </button>\n",
              "      \n",
              "  <style>\n",
              "    .colab-df-container {\n",
              "      display:flex;\n",
              "      flex-wrap:wrap;\n",
              "      gap: 12px;\n",
              "    }\n",
              "\n",
              "    .colab-df-convert {\n",
              "      background-color: #E8F0FE;\n",
              "      border: none;\n",
              "      border-radius: 50%;\n",
              "      cursor: pointer;\n",
              "      display: none;\n",
              "      fill: #1967D2;\n",
              "      height: 32px;\n",
              "      padding: 0 0 0 0;\n",
              "      width: 32px;\n",
              "    }\n",
              "\n",
              "    .colab-df-convert:hover {\n",
              "      background-color: #E2EBFA;\n",
              "      box-shadow: 0px 1px 2px rgba(60, 64, 67, 0.3), 0px 1px 3px 1px rgba(60, 64, 67, 0.15);\n",
              "      fill: #174EA6;\n",
              "    }\n",
              "\n",
              "    [theme=dark] .colab-df-convert {\n",
              "      background-color: #3B4455;\n",
              "      fill: #D2E3FC;\n",
              "    }\n",
              "\n",
              "    [theme=dark] .colab-df-convert:hover {\n",
              "      background-color: #434B5C;\n",
              "      box-shadow: 0px 1px 3px 1px rgba(0, 0, 0, 0.15);\n",
              "      filter: drop-shadow(0px 1px 2px rgba(0, 0, 0, 0.3));\n",
              "      fill: #FFFFFF;\n",
              "    }\n",
              "  </style>\n",
              "\n",
              "      <script>\n",
              "        const buttonEl =\n",
              "          document.querySelector('#df-bdcdf9da-2864-483c-8fbf-317b30c15497 button.colab-df-convert');\n",
              "        buttonEl.style.display =\n",
              "          google.colab.kernel.accessAllowed ? 'block' : 'none';\n",
              "\n",
              "        async function convertToInteractive(key) {\n",
              "          const element = document.querySelector('#df-bdcdf9da-2864-483c-8fbf-317b30c15497');\n",
              "          const dataTable =\n",
              "            await google.colab.kernel.invokeFunction('convertToInteractive',\n",
              "                                                     [key], {});\n",
              "          if (!dataTable) return;\n",
              "\n",
              "          const docLinkHtml = 'Like what you see? Visit the ' +\n",
              "            '<a target=\"_blank\" href=https://colab.research.google.com/notebooks/data_table.ipynb>data table notebook</a>'\n",
              "            + ' to learn more about interactive tables.';\n",
              "          element.innerHTML = '';\n",
              "          dataTable['output_type'] = 'display_data';\n",
              "          await google.colab.output.renderOutput(dataTable, element);\n",
              "          const docLink = document.createElement('div');\n",
              "          docLink.innerHTML = docLinkHtml;\n",
              "          element.appendChild(docLink);\n",
              "        }\n",
              "      </script>\n",
              "    </div>\n",
              "  </div>\n",
              "  "
            ],
            "text/plain": [
              "              coupon issue date  ... 2022-01-20 00:00:00  2022-01-21 00:00:00\n",
              "ISIN                             ...                                         \n",
              "CA135087K866  0.0150 2020-01-27  ...            0.003042             0.002761\n",
              "CA135087L369  0.0025 2020-08-17  ...            0.007675             0.007365\n",
              "CA135087L856  0.0025 2021-02-05  ...            0.009724             0.009380\n",
              "CA135087M763  0.0050 2021-08-09  ...            0.011225             0.010911\n",
              "CA135087J546  0.0225 2018-10-05  ...            0.011242             0.010857\n",
              "CA135087J967  0.0150 2019-04-05  ...            0.012419             0.012066\n",
              "CA135087K528  0.0125 2019-10-11  ...            0.013684             0.013204\n",
              "CA135087K940  0.0050 2020-04-03  ...            0.014325             0.014006\n",
              "CA135087L518  0.0025 2020-10-09  ...            0.014905             0.014476\n",
              "CA135087L930  0.0100 2021-04-16  ...            0.015429             0.014958\n",
              "\n",
              "[10 rows x 13 columns]"
            ]
          },
          "metadata": {},
          "execution_count": 8
        }
      ]
    },
    {
      "cell_type": "code",
      "source": [
        "# plot\n",
        "import matplotlib.pyplot as plt\n",
        "\n",
        "for day in dataset.columns:\n",
        "  if isinstance(day, datetime.datetime):\n",
        "    plt.plot(dataset['maturity date'], yield_df[day]*100, label=day.strftime(\"%b %d, %Y\"))\n",
        "plt.legend()\n",
        "\n",
        "import datetime\n",
        "\n",
        "format = ['', '1', '', '2', '', '3', '', '4', '', '5']\n",
        "plt.xticks(dataset['maturity date'], format, fontsize=8)\n",
        "plt.title('5-year yield curve')\n",
        "plt.xlabel('time to maturity (in year)')\n",
        "plt.ylabel('yield rate (in %)')\n",
        "plt.savefig('APM466_yield_curve.png')\n",
        "plt.show()"
      ],
      "metadata": {
        "id": "r4UKz7gzVLLk",
        "colab": {
          "base_uri": "https://localhost:8080/",
          "height": 294
        },
        "outputId": "02fcec00-b529-4832-f6c2-f0e75a9b68b3"
      },
      "execution_count": 9,
      "outputs": [
        {
          "output_type": "display_data",
          "data": {
            "image/png": "[encoded data removed]",
            "text/plain": [
              "<Figure size 432x288 with 1 Axes>"
            ]
          },
          "metadata": {
            "needs_background": "light"
          }
        }
      ]
    },
    {
      "cell_type": "markdown",
      "source": [
        "To calculate the spot rate, use the following formula:\n",
        "$$DP_n=\\sum_{i=1}^n C_n e^{-r_i \\cdot t_i} + F e^{-r_n \\cdot t_n}$$"
      ],
      "metadata": {
        "id": "s7mHN_9FCFjr"
      }
    },
    {
      "cell_type": "code",
      "source": [
        "spot_df = df_dirty_price.copy()"
      ],
      "metadata": {
        "id": "9uFG40ewPKK5"
      },
      "execution_count": 10,
      "outputs": []
    },
    {
      "cell_type": "code",
      "source": [
        "import math\n",
        "\n",
        "# with dirty_price, we will calculate the spot rate\n",
        "def spot_rate(ISIN, price, day):\n",
        "  \"\"\"returns the spot rate of the bond <ISIN> on <day>\"\"\"\n",
        "  # face value + last coupon payment\n",
        "  notional = 100 * (1+dataset.loc[ISIN, 'coupon']/2)\n",
        "  # time to maturity\n",
        "  timestamp = (dataset.loc[ISIN, 'maturity date'] - day).days / 365\n",
        "  return - math.log(price/notional) / timestamp\n",
        "\n",
        "def update_pv(n, d):\n",
        "  bond = dataset.index[n]\n",
        "  day = dataset.columns[d]\n",
        "  i = 0\n",
        "  P = df_dirty_price.loc[bond, day]\n",
        "  while i < n:\n",
        "    coupon = df_dirty_price.iloc[n,0] / 2 * 100\n",
        "    timestamp = (spot_df.iloc[i,2] - day).days/365\n",
        "    coupon *= math.exp(-spot_df.iloc[i, d]*timestamp)\n",
        "    P -= coupon\n",
        "    i += 1\n",
        "  return P"
      ],
      "metadata": {
        "id": "rM1tWZDFW7hS"
      },
      "execution_count": 11,
      "outputs": []
    },
    {
      "cell_type": "code",
      "source": [
        "for n in range(len(dataset.index)):\n",
        "  bond = dataset.index[n]\n",
        "  for d in range(len(dataset.columns)):\n",
        "    day = dataset.columns[d]\n",
        "    if isinstance(day, datetime.datetime):\n",
        "      P = update_pv(n, d)\n",
        "      rate = spot_rate(bond, P, day)\n",
        "      spot_df.iloc[n, d] = rate"
      ],
      "metadata": {
        "id": "mBjeIl4MrdvK"
      },
      "execution_count": 12,
      "outputs": []
    },
    {
      "cell_type": "code",
      "source": [
        "spot_df.to_csv('spot rate.csv')"
      ],
      "metadata": {
        "id": "6Qq1uRVDD7qD"
      },
      "execution_count": 13,
      "outputs": []
    },
    {
      "cell_type": "code",
      "source": [
        "# plot\n",
        "import matplotlib.pyplot as plt\n",
        "\n",
        "for day in dataset.columns:\n",
        "  if isinstance(day, datetime.datetime):\n",
        "    plt.plot(dataset['maturity date'], spot_df[day]*100, label=day.strftime(\"%b %d, %Y\"))\n",
        "plt.legend()\n",
        "\n",
        "import datetime\n",
        "\n",
        "format = ['', '1', '', '2', '', '3', '', '4', '', '5']\n",
        "plt.xticks(dataset['maturity date'], format, fontsize=8)\n",
        "plt.title('5-year spot curve')\n",
        "plt.xlabel('time to maturity (in year)')\n",
        "plt.ylabel('spot rate (in %)')\n",
        "plt.savefig('APM466_spot_curve.png')\n",
        "plt.show()"
      ],
      "metadata": {
        "id": "9oQT0Iff1Pj5",
        "colab": {
          "base_uri": "https://localhost:8080/",
          "height": 294
        },
        "outputId": "060eda19-167a-40c0-fa01-0361d2455ab6"
      },
      "execution_count": 14,
      "outputs": [
        {
          "output_type": "display_data",
          "data": {
            "image/png": "[encoded data removed]",
            "text/plain": [
              "<Figure size 432x288 with 1 Axes>"
            ]
          },
          "metadata": {
            "needs_background": "light"
          }
        }
      ]
    },
    {
      "cell_type": "markdown",
      "source": [
        "4c. Using spot rates, we will compute the 1-year forward rate with the following formula: $e^{r_n*t_n}=e^{r_1*t_1}*e^{f_{[1,n]} \\cdot (t_n-t_1)}$"
      ],
      "metadata": {
        "id": "ty6EG08sfZnH"
      }
    },
    {
      "cell_type": "code",
      "source": [
        "forward_df = spot_df.copy()\n",
        "forward_df.iloc[0:3, 3:] = 0"
      ],
      "metadata": {
        "id": "xGnJiIcFE5QC"
      },
      "execution_count": 15,
      "outputs": []
    },
    {
      "cell_type": "code",
      "source": [
        "for n in range(3, len(forward_df.index)):\n",
        "  bond = forward_df.index[n]\n",
        "  t1n = (forward_df.loc[bond, 'maturity date']-forward_df.iloc[1,2]).days/365\n",
        "  for d in range(len(forward_df.columns)):\n",
        "    day = forward_df.columns[d]\n",
        "    if isinstance(day, datetime.datetime):\n",
        "      t01 = (forward_df.iloc[1, 2] - day).days/365\n",
        "      t0n = (forward_df.loc[bond, 'maturity date']-day).days/365\n",
        "      r1 = spot_df.iloc[1, d]\n",
        "      rn = spot_df.iloc[n, d]\n",
        "      forward_df.iloc[n, d] = (rn*t0n - r1*t01)/t1n\n",
        "\n",
        "forward_df.to_csv('1-year forward rate.csv')"
      ],
      "metadata": {
        "id": "4xIooziVREeH"
      },
      "execution_count": 16,
      "outputs": []
    },
    {
      "cell_type": "code",
      "source": [
        "# plot\n",
        "import matplotlib.pyplot as plt\n",
        "\n",
        "for day in dataset.columns:\n",
        "  if isinstance(day, datetime.datetime):\n",
        "    plt.plot(forward_df['maturity date'].iloc[3:,], \n",
        "             forward_df[day].iloc[3:,]*100, label=day.strftime(\"%b %d, %Y\"))\n",
        "plt.legend()\n",
        "\n",
        "import datetime\n",
        "\n",
        "format = ['1yr-1yr', '', '1yr-2yr', '', '1yr-3yr', '', '1yr-4yr']\n",
        "plt.xticks(forward_df['maturity date'].iloc[3:,], format)\n",
        "plt.title('1-year forward curve')\n",
        "plt.xlabel('1yr-nyr')\n",
        "plt.ylabel('1-year forward rate (in %)')\n",
        "plt.legend(bbox_to_anchor=(1.05, 1.0), loc='upper left')\n",
        "plt.savefig('APM466_1yr_forward_curve.png', bbox_inches='tight')\n",
        "plt.show()"
      ],
      "metadata": {
        "id": "DjmR5xygfC5H",
        "colab": {
          "base_uri": "https://localhost:8080/",
          "height": 295
        },
        "outputId": "477cc8f8-4647-440a-84f0-e28dd6dd5cfd"
      },
      "execution_count": 17,
      "outputs": [
        {
          "output_type": "display_data",
          "data": {
            "image/png": "[encoded data removed]",
            "text/plain": [
              "<Figure size 432x288 with 1 Axes>"
            ]
          },
          "metadata": {
            "needs_background": "light"
          }
        }
      ]
    },
    {
      "cell_type": "markdown",
      "source": [
        "5 Covariance of daily log-returns of yield rates"
      ],
      "metadata": {
        "id": "TLGZrnJoLsbh"
      }
    },
    {
      "cell_type": "code",
      "source": [
        "import numpy as np\n",
        "\n",
        "yield_matrix = []\n",
        "\n",
        "for n in range(1, len(forward_df.index), 2):\n",
        "  b = []\n",
        "  for d in range(3, len(forward_df.columns)-1):\n",
        "    x_ij = math.log(yield_df.iloc[n, d+1] / yield_df.iloc[n, d])\n",
        "    b.append(x_ij)\n",
        "  yield_matrix.append(b)\n",
        "\n",
        "yield_m = np.array(yield_matrix)\n",
        "yield_cov = np.cov(yield_m)"
      ],
      "metadata": {
        "id": "na9rumxgLyIj"
      },
      "execution_count": 18,
      "outputs": []
    },
    {
      "cell_type": "code",
      "source": [
        "yield_cov"
      ],
      "metadata": {
        "colab": {
          "base_uri": "https://localhost:8080/"
        },
        "id": "urg0GYI9qpsj",
        "outputId": "4c669ef9-29a9-4f1e-a90f-02c9c796c82d"
      },
      "execution_count": 19,
      "outputs": [
        {
          "output_type": "execute_result",
          "data": {
            "text/plain": [
              "array([[0.00162126, 0.0009987 , 0.00085001, 0.00067166, 0.00081897],\n",
              "       [0.0009987 , 0.00071091, 0.00067109, 0.000542  , 0.00059184],\n",
              "       [0.00085001, 0.00067109, 0.00073446, 0.00059545, 0.00058656],\n",
              "       [0.00067166, 0.000542  , 0.00059545, 0.00055313, 0.00051467],\n",
              "       [0.00081897, 0.00059184, 0.00058656, 0.00051467, 0.00053757]])"
            ]
          },
          "metadata": {},
          "execution_count": 19
        }
      ]
    },
    {
      "cell_type": "markdown",
      "source": [
        "5 Covariance of daily log-returns of forward rates"
      ],
      "metadata": {
        "id": "3iirYPgb4lZ8"
      }
    },
    {
      "cell_type": "code",
      "source": [
        "import numpy as np\n",
        "\n",
        "forward_matrix = []\n",
        "\n",
        "for n in range(3, len(forward_df.index), 2):\n",
        "  b = []\n",
        "  for d in range(3, len(forward_df.columns)-1):\n",
        "    x_ij = math.log(forward_df.iloc[n, d+1] / forward_df.iloc[n, d])\n",
        "    b.append(x_ij)\n",
        "  forward_matrix.append(b)\n",
        "\n",
        "forward_m = np.array(forward_matrix)\n",
        "forward_cov = np.cov(forward_m)"
      ],
      "metadata": {
        "id": "HsczjEKp4nIb"
      },
      "execution_count": 20,
      "outputs": []
    },
    {
      "cell_type": "code",
      "source": [
        "forward_cov"
      ],
      "metadata": {
        "colab": {
          "base_uri": "https://localhost:8080/"
        },
        "id": "MfejCs5iq0R8",
        "outputId": "e06d80cb-50dd-477a-e4a4-6adfd51a0703"
      },
      "execution_count": 21,
      "outputs": [
        {
          "output_type": "execute_result",
          "data": {
            "text/plain": [
              "array([[0.000496  , 0.00054673, 0.00043765, 0.00044421],\n",
              "       [0.00054673, 0.0007122 , 0.00055748, 0.00050441],\n",
              "       [0.00043765, 0.00055748, 0.00053019, 0.00045471],\n",
              "       [0.00044421, 0.00050441, 0.00045471, 0.00047574]])"
            ]
          },
          "metadata": {},
          "execution_count": 21
        }
      ]
    },
    {
      "cell_type": "markdown",
      "source": [
        "6 - Calculate the eigenvalues and eigenvectors of both covariance matrices"
      ],
      "metadata": {
        "id": "dON91FZNOXgx"
      }
    },
    {
      "cell_type": "code",
      "source": [
        "from numpy import linalg as LA\n",
        "\n",
        "eigenvalue_yield, eigenvector_yield = LA.eig(yield_cov)\n",
        "eigenvalue_forward, eigenvector_forward = LA.eig(forward_cov)"
      ],
      "metadata": {
        "id": "LpKas2GlOW4x"
      },
      "execution_count": 22,
      "outputs": []
    },
    {
      "cell_type": "code",
      "source": [
        "print(eigenvalue_yield, eigenvector_yield)"
      ],
      "metadata": {
        "id": "PtdTwRSnPBQH",
        "colab": {
          "base_uri": "https://localhost:8080/"
        },
        "outputId": "e822ec08-7ffb-4d96-b1d3-7f6585c094a5"
      },
      "execution_count": 23,
      "outputs": [
        {
          "output_type": "stream",
          "name": "stdout",
          "text": [
            "[3.73385153e-03 3.50892557e-04 5.01056458e-05 1.53898738e-05\n",
            " 7.08898961e-06] [[-0.62296554  0.69591947  0.10282834 -0.33031245 -0.08905077]\n",
            " [-0.4315786   0.00134837 -0.32149117  0.79339478 -0.28444023]\n",
            " [-0.41356717 -0.45329686 -0.64382525 -0.42251851  0.17450303]\n",
            " [-0.34247692 -0.52784256  0.5485164  -0.15279743 -0.52903165]\n",
            " [-0.37057469 -0.17775953  0.41314472  0.24402758  0.77513736]]\n"
          ]
        }
      ]
    },
    {
      "cell_type": "code",
      "source": [
        "print(eigenvalue_forward, eigenvector_forward)"
      ],
      "metadata": {
        "colab": {
          "base_uri": "https://localhost:8080/"
        },
        "id": "M5ltuARZpdVL",
        "outputId": "93b9823d-598b-48c7-ef1e-2b652bab0bf1"
      },
      "execution_count": 24,
      "outputs": [
        {
          "output_type": "stream",
          "name": "stdout",
          "text": [
            "[2.04158415e-03 1.93220481e-05 7.45206519e-05 7.86996452e-05] [[ 0.47265139  0.57578515 -0.60322813 -0.284935  ]\n",
            " [ 0.57295801 -0.4182961   0.34101766 -0.61680989]\n",
            " [ 0.48658051  0.44617246  0.5840337   0.47230729]\n",
            " [ 0.45995563 -0.54261402 -0.42276166  0.56150104]]\n"
          ]
        }
      ]
    }
  ]
}